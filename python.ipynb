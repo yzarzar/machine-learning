{
 "cells": [
  {
   "cell_type": "markdown",
   "metadata": {},
   "source": [
    "# My first note book"
   ]
  },
  {
   "cell_type": "markdown",
   "metadata": {
    "notebookRunGroups": {
     "groupValue": ""
    }
   },
   "source": [
    "Mean: The mean value is the average value."
   ]
  },
  {
   "cell_type": "code",
   "execution_count": 43,
   "metadata": {},
   "outputs": [
    {
     "data": {
      "text/plain": [
       "89.76923076923077"
      ]
     },
     "execution_count": 43,
     "metadata": {},
     "output_type": "execute_result"
    }
   ],
   "source": [
    "\"\"\"\n",
    "To calculate the mean, find the sum of all values, and device the sum by the number of values:\n",
    "\n",
    "e.g.:(99+86+87+88+111+86+103+87+94+78+77+85+86) / 13 = 89.77\n",
    "\"\"\"\n",
    "import numpy\n",
    "speed = [99,86,87,88,111,86,103,87,94,78,77,85,86]\n",
    "\n",
    "\n",
    "mean_v = numpy.mean(speed)\n",
    "mean_v"
   ]
  },
  {
   "cell_type": "markdown",
   "metadata": {},
   "source": [
    "Median: The median value is the value in the middle, after you have sorted all the values."
   ]
  },
  {
   "cell_type": "code",
   "execution_count": 45,
   "metadata": {},
   "outputs": [
    {
     "data": {
      "text/plain": [
       "87.0"
      ]
     },
     "execution_count": 45,
     "metadata": {},
     "output_type": "execute_result"
    }
   ],
   "source": [
    "\"\"\"\n",
    "It is important the numbers are sorted before you can find the median.\n",
    "e.g.: 77, 78, 85, 86, 86, 86, (87), 87, 88, 94, 99, 103, 111\n",
    "median value is (87)\n",
    "\n",
    "If there are two numbers in the middle, divide the sum of those numbers by two.\n",
    "e.g.: 77, 78, 85, 86, 86, 86, 87, 87, 94, 98, 99, 103\n",
    "(86 + 87) / 2 = 86.5\n",
    "median value is (86.5)\n",
    "\"\"\"\n",
    "\n",
    "median_v = numpy.median(speed)\n",
    "median_v"
   ]
  },
  {
   "cell_type": "markdown",
   "metadata": {},
   "source": [
    "Mode: The mode value is the value that appears the most number of times."
   ]
  },
  {
   "cell_type": "code",
   "execution_count": 46,
   "metadata": {},
   "outputs": [
    {
     "data": {
      "text/plain": [
       "ModeResult(mode=86, count=3)"
      ]
     },
     "execution_count": 46,
     "metadata": {},
     "output_type": "execute_result"
    }
   ],
   "source": [
    "\"\"\"\n",
    "99,(86),87,88,111,(86),103,87,94,78,77,85,(86)\n",
    "mode value is (86) (3 times)\n",
    "\"\"\"\n",
    "from scipy import stats\n",
    "mode_v = stats.mode(speed)\n",
    "mode_v"
   ]
  },
  {
   "cell_type": "markdown",
   "metadata": {
    "notebookRunGroups": {
     "groupValue": ""
    }
   },
   "source": [
    "What is standard deviation?\n",
    "\n",
    "Standard deviation is a number that describes how spread out the values are."
   ]
  },
  {
   "cell_type": "code",
   "execution_count": 47,
   "metadata": {},
   "outputs": [
    {
     "data": {
      "text/plain": [
       "9.258292301032677"
      ]
     },
     "execution_count": 47,
     "metadata": {},
     "output_type": "execute_result"
    }
   ],
   "source": [
    "# Please utilize the variable \"speed\" that has been provided.\n",
    "std_deviation = numpy.std(speed)\n",
    "std_deviation"
   ]
  },
  {
   "cell_type": "markdown",
   "metadata": {},
   "source": [
    "What is variance?\n",
    "\n",
    "Variance is another number that indicates how spread out the values are."
   ]
  },
  {
   "cell_type": "code",
   "execution_count": 52,
   "metadata": {},
   "outputs": [
    {
     "data": {
      "text/plain": [
       "1432.2448979591834"
      ]
     },
     "execution_count": 52,
     "metadata": {},
     "output_type": "execute_result"
    }
   ],
   "source": [
    "\"\"\"\n",
    "In fact, if you multiply the standard deviation by itself, you get the variance\n",
    "\n",
    "1. find the mean:\n",
    "(32+111+138+28+59+77+97) / 7 = 77.4\n",
    "\n",
    "2. For each value: find the different from mean:\n",
    "32 - 77.4 = -45.4\n",
    "111 - 77.4 =  33.6\n",
    "138 - 77.4 =  60.6\n",
    "28 - 77.4 = -49.4\n",
    "59 - 77.4 = -18.4\n",
    "77 - 77.4 = - 0.4\n",
    "97 - 77.4 =  19.6\n",
    "\n",
    "3.For each difference: find the square value:\n",
    "(-45.4)2 = 2061.16\n",
    "(33.6)2 = 1128.96\n",
    "(60.6)2 = 3672.36\n",
    "(-49.4)2 = 2440.36\n",
    "(-18.4)2 =  338.56\n",
    "(- 0.4)2 =    0.16\n",
    "(19.6)2 =  384.16\n",
    "\n",
    "4. The variance is the average number of these squared differences:\n",
    "(2061.16+1128.96+3672.36+2440.36+338.56+0.16+384.16) / 7 = 1432.2\n",
    "\"\"\"\n",
    "\n",
    "speed_var = [32,111,138,28,59,77,97]\n",
    "variance_v = numpy.var(speed_var)\n",
    "variance_v"
   ]
  },
  {
   "cell_type": "markdown",
   "metadata": {},
   "source": [
    "What is standard deviation?\n",
    "\n",
    "The formula to find the standard deviation is the square root of the variance."
   ]
  },
  {
   "cell_type": "code",
   "execution_count": 53,
   "metadata": {},
   "outputs": [
    {
     "data": {
      "text/plain": [
       "37.84501153334721"
      ]
     },
     "execution_count": 53,
     "metadata": {},
     "output_type": "execute_result"
    }
   ],
   "source": [
    "# √1432.25 = 37.85\n",
    "# Standard Deviation is often represented by the symbol sigma: σ\n",
    "# Variance is often represented by the symbol Sigma Squared: σ2\n",
    "speed_std = [32,111,138,28,59,77,97]\n",
    "std_v = numpy.std(speed_std)\n",
    "std_v"
   ]
  }
 ],
 "metadata": {
  "kernelspec": {
   "display_name": ".venv",
   "language": "python",
   "name": "python3"
  },
  "language_info": {
   "codemirror_mode": {
    "name": "ipython",
    "version": 3
   },
   "file_extension": ".py",
   "mimetype": "text/x-python",
   "name": "python",
   "nbconvert_exporter": "python",
   "pygments_lexer": "ipython3",
   "version": "3.12.2"
  }
 },
 "nbformat": 4,
 "nbformat_minor": 2
}
